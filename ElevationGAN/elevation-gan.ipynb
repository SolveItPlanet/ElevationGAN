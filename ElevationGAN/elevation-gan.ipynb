{
 "cells": [
  {
   "cell_type": "markdown",
   "id": "08f450d3",
   "metadata": {
    "papermill": {
     "duration": 0.006712,
     "end_time": "2022-11-09T08:19:26.085748",
     "exception": false,
     "start_time": "2022-11-09T08:19:26.079036",
     "status": "completed"
    },
    "tags": []
   },
   "source": [
    "# IMPORTANT STARTING NOTES\n",
    "\n",
    "**Code has only been testing on GPU**\n",
    "\n",
    "In the code immediately below: \n",
    "1. Choose how to train - in the code below choose 0, 1 or 2 (optimizing parameters, fully training the model or just gathering training data)\n",
    "2. Choose paths to training data (leave normal if not appropriate)\n",
    "3. Choose number of files to generate (leave normal if not appropriate)\n",
    "4. Choose number of samples per file (leave normal if not appropriate)\n",
    "5. Choose discriminator parameters (if optimizing parameters fill in multiple rows, otherwize the top row is used to fully train)\n",
    "6. Choose batch size (if using TPU should be 128 per core otherwise refine to fit memory)\n",
    "7. Choose number of epochs"
   ]
  },
  {
   "cell_type": "code",
   "execution_count": 1,
   "id": "07158eb9",
   "metadata": {
    "execution": {
     "iopub.execute_input": "2022-11-09T08:19:26.098817Z",
     "iopub.status.busy": "2022-11-09T08:19:26.098203Z",
     "iopub.status.idle": "2022-11-09T08:19:26.114948Z",
     "shell.execute_reply": "2022-11-09T08:19:26.114120Z"
    },
    "papermill": {
     "duration": 0.02594,
     "end_time": "2022-11-09T08:19:26.117334",
     "exception": false,
     "start_time": "2022-11-09T08:19:26.091394",
     "status": "completed"
    },
    "tags": []
   },
   "outputs": [],
   "source": [
    "train_type = 0\n",
    "training_paths = [\"../input/elevationdataset/elevation_data0(num_samples_ 32).npy\"]\n",
    "number_of_files = 1\n",
    "number_of_samples = 1\n",
    "\n",
    "discriminator_params = [\n",
    "    #[96,(8,8),(16,16),128,(8,8),(16,16),8,(32,32),(1,1)],\n",
    "    #[96,(8,8),(16,16),128,(8,8),(16,16),8,(32,32),(2,2)],\n",
    "    #[96,(8,8),(16,16),128,(8,8),(16,16),8,(32,32),(4,4)],\n",
    "    #[96,(8,8),(16,16),128,(8,8),(16,16),8,(32,32),(8,8)],\n",
    "    #[96,(8,8),(16,16),128,(8,8),(16,16),8,(32,32),(16,16)],\n",
    "    [96,(8,8),(16,16),128,(8,8),(16,16),8,(32,32),(32,32)]\n",
    "]\n",
    "\n",
    "generator_params = [\n",
    "    [32,(3,3),(28,28),16,(8,8),(1,1),32,(4,4),(1,1),1,(1,1),(1,1)],\n",
    "    [48,(3,3),(28,28),16,(8,8),(1,1),32,(4,4),(1,1),1,(1,1),(1,1)],\n",
    "    [64,(3,3),(28,28),16,(8,8),(1,1),32,(4,4),(1,1),1,(1,1),(1,1)],\n",
    "    [80,(3,3),(28,28),16,(8,8),(1,1),32,(4,4),(1,1),1,(1,1),(1,1)],\n",
    "    [96,(3,3),(28,28),16,(8,8),(1,1),32,(4,4),(1,1),1,(1,1),(1,1)],\n",
    "    [128,(3,3),(28,28),16,(8,8),(1,1),32,(4,4),(1,1),1,(1,1),(1,1)]\n",
    "]\n",
    "\n",
    "BATCH_SIZE = 8\n",
    "EPOCHS = 300\n",
    "\n",
    "save_num = 0  #Only changes the output file path when gathering more training data"
   ]
  },
  {
   "cell_type": "markdown",
   "id": "58db237b",
   "metadata": {
    "papermill": {
     "duration": 0.005309,
     "end_time": "2022-11-09T08:19:26.128092",
     "exception": false,
     "start_time": "2022-11-09T08:19:26.122783",
     "status": "completed"
    },
    "tags": []
   },
   "source": [
    "# **Setup**\n",
    "* *Install dependancies*\n",
    "* *Import dependancies*\n",
    "* *Set environment variables*\n",
    "* *Set strategy*"
   ]
  },
  {
   "cell_type": "markdown",
   "id": "f6f1b04a",
   "metadata": {
    "papermill": {
     "duration": 0.00521,
     "end_time": "2022-11-09T08:19:26.138802",
     "exception": false,
     "start_time": "2022-11-09T08:19:26.133592",
     "status": "completed"
    },
    "tags": []
   },
   "source": [
    "## *Install Dependancies*"
   ]
  },
  {
   "cell_type": "code",
   "execution_count": 2,
   "id": "f00a0fa1",
   "metadata": {
    "_cell_guid": "b1076dfc-b9ad-4769-8c92-a6c4dae69d19",
    "_kg_hide-output": true,
    "_uuid": "8f2839f25d086af736a60e9eeb907d3b93b6e0e5",
    "execution": {
     "iopub.execute_input": "2022-11-09T08:19:26.150950Z",
     "iopub.status.busy": "2022-11-09T08:19:26.150693Z",
     "iopub.status.idle": "2022-11-09T08:20:24.398655Z",
     "shell.execute_reply": "2022-11-09T08:20:24.397406Z"
    },
    "papermill": {
     "duration": 58.256996,
     "end_time": "2022-11-09T08:20:24.401176",
     "exception": false,
     "start_time": "2022-11-09T08:19:26.144180",
     "status": "completed"
    },
    "scrolled": true,
    "tags": []
   },
   "outputs": [
    {
     "name": "stdout",
     "output_type": "stream",
     "text": [
      "Requirement already satisfied: imageio in /opt/conda/lib/python3.7/site-packages (2.19.3)\r\n",
      "Requirement already satisfied: pillow>=8.3.2 in /opt/conda/lib/python3.7/site-packages (from imageio) (9.1.1)\r\n",
      "Requirement already satisfied: numpy in /opt/conda/lib/python3.7/site-packages (from imageio) (1.21.6)\r\n",
      "\u001b[33mWARNING: Running pip as the 'root' user can result in broken permissions and conflicting behaviour with the system package manager. It is recommended to use a virtual environment instead: https://pip.pypa.io/warnings/venv\u001b[0m\u001b[33m\r\n",
      "\u001b[0mCollecting elevation\r\n",
      "  Downloading elevation-1.1.3-py3-none-any.whl (16 kB)\r\n",
      "Requirement already satisfied: fasteners in /opt/conda/lib/python3.7/site-packages (from elevation) (0.17.3)\r\n",
      "Requirement already satisfied: appdirs in /opt/conda/lib/python3.7/site-packages (from elevation) (1.4.4)\r\n",
      "Requirement already satisfied: click in /opt/conda/lib/python3.7/site-packages (from elevation) (8.0.4)\r\n",
      "Requirement already satisfied: importlib-metadata in /opt/conda/lib/python3.7/site-packages (from click->elevation) (4.13.0)\r\n",
      "Requirement already satisfied: typing-extensions>=3.6.4 in /opt/conda/lib/python3.7/site-packages (from importlib-metadata->click->elevation) (4.1.1)\r\n",
      "Requirement already satisfied: zipp>=0.5 in /opt/conda/lib/python3.7/site-packages (from importlib-metadata->click->elevation) (3.8.0)\r\n",
      "Installing collected packages: elevation\r\n",
      "Successfully installed elevation-1.1.3\r\n",
      "\u001b[33mWARNING: Running pip as the 'root' user can result in broken permissions and conflicting behaviour with the system package manager. It is recommended to use a virtual environment instead: https://pip.pypa.io/warnings/venv\u001b[0m\u001b[33m\r\n",
      "\u001b[0mRequirement already satisfied: tensorflow in /opt/conda/lib/python3.7/site-packages (2.6.4)\r\n",
      "Collecting typing-extensions<3.11,>=3.7\r\n",
      "  Downloading typing_extensions-3.10.0.2-py3-none-any.whl (26 kB)\r\n",
      "Collecting numpy~=1.19.2\r\n",
      "  Downloading numpy-1.19.5-cp37-cp37m-manylinux2010_x86_64.whl (14.8 MB)\r\n",
      "\u001b[2K     \u001b[90m━━━━━━━━━━━━━━━━━━━━━━━━━━━━━━━━━━━━━━━━\u001b[0m \u001b[32m14.8/14.8 MB\u001b[0m \u001b[31m33.9 MB/s\u001b[0m eta \u001b[36m0:00:00\u001b[0m\r\n",
      "\u001b[?25hRequirement already satisfied: keras-preprocessing~=1.1.2 in /opt/conda/lib/python3.7/site-packages (from tensorflow) (1.1.2)\r\n",
      "Collecting tensorboard<2.7,>=2.6.0\r\n",
      "  Downloading tensorboard-2.6.0-py3-none-any.whl (5.6 MB)\r\n",
      "\u001b[2K     \u001b[90m━━━━━━━━━━━━━━━━━━━━━━━━━━━━━━━━━━━━━━━━\u001b[0m \u001b[32m5.6/5.6 MB\u001b[0m \u001b[31m37.8 MB/s\u001b[0m eta \u001b[36m0:00:00\u001b[0m\r\n",
      "\u001b[?25hRequirement already satisfied: protobuf>=3.9.2 in /opt/conda/lib/python3.7/site-packages (from tensorflow) (3.19.4)\r\n",
      "Requirement already satisfied: astunparse~=1.6.3 in /opt/conda/lib/python3.7/site-packages (from tensorflow) (1.6.3)\r\n",
      "Requirement already satisfied: keras<2.7,>=2.6.0 in /opt/conda/lib/python3.7/site-packages (from tensorflow) (2.6.0)\r\n",
      "Collecting h5py~=3.1.0\r\n",
      "  Downloading h5py-3.1.0-cp37-cp37m-manylinux1_x86_64.whl (4.0 MB)\r\n",
      "\u001b[2K     \u001b[90m━━━━━━━━━━━━━━━━━━━━━━━━━━━━━━━━━━━━━━━━\u001b[0m \u001b[32m4.0/4.0 MB\u001b[0m \u001b[31m44.4 MB/s\u001b[0m eta \u001b[36m0:00:00\u001b[0m\r\n",
      "\u001b[?25hRequirement already satisfied: gast==0.4.0 in /opt/conda/lib/python3.7/site-packages (from tensorflow) (0.4.0)\r\n",
      "Requirement already satisfied: wheel~=0.35 in /opt/conda/lib/python3.7/site-packages (from tensorflow) (0.37.1)\r\n",
      "Requirement already satisfied: tensorflow-estimator<2.7,>=2.6.0 in /opt/conda/lib/python3.7/site-packages (from tensorflow) (2.6.0)\r\n",
      "Requirement already satisfied: wrapt~=1.12.1 in /opt/conda/lib/python3.7/site-packages (from tensorflow) (1.12.1)\r\n",
      "Requirement already satisfied: opt-einsum~=3.3.0 in /opt/conda/lib/python3.7/site-packages (from tensorflow) (3.3.0)\r\n",
      "Requirement already satisfied: flatbuffers~=1.12.0 in /opt/conda/lib/python3.7/site-packages (from tensorflow) (1.12)\r\n",
      "Requirement already satisfied: google-pasta~=0.2 in /opt/conda/lib/python3.7/site-packages (from tensorflow) (0.2.0)\r\n",
      "Requirement already satisfied: termcolor~=1.1.0 in /opt/conda/lib/python3.7/site-packages (from tensorflow) (1.1.0)\r\n",
      "Requirement already satisfied: six~=1.15.0 in /opt/conda/lib/python3.7/site-packages (from tensorflow) (1.15.0)\r\n",
      "Requirement already satisfied: absl-py~=0.10 in /opt/conda/lib/python3.7/site-packages (from tensorflow) (0.15.0)\r\n",
      "Requirement already satisfied: grpcio<2.0,>=1.37.0 in /opt/conda/lib/python3.7/site-packages (from tensorflow) (1.43.0)\r\n",
      "Requirement already satisfied: clang~=5.0 in /opt/conda/lib/python3.7/site-packages (from tensorflow) (5.0)\r\n",
      "Requirement already satisfied: cached-property in /opt/conda/lib/python3.7/site-packages (from h5py~=3.1.0->tensorflow) (1.5.2)\r\n",
      "Requirement already satisfied: setuptools>=41.0.0 in /opt/conda/lib/python3.7/site-packages (from tensorboard<2.7,>=2.6.0->tensorflow) (59.8.0)\r\n",
      "Requirement already satisfied: google-auth<2,>=1.6.3 in /opt/conda/lib/python3.7/site-packages (from tensorboard<2.7,>=2.6.0->tensorflow) (1.35.0)\r\n",
      "Requirement already satisfied: google-auth-oauthlib<0.5,>=0.4.1 in /opt/conda/lib/python3.7/site-packages (from tensorboard<2.7,>=2.6.0->tensorflow) (0.4.6)\r\n",
      "Requirement already satisfied: requests<3,>=2.21.0 in /opt/conda/lib/python3.7/site-packages (from tensorboard<2.7,>=2.6.0->tensorflow) (2.28.1)\r\n",
      "Requirement already satisfied: tensorboard-plugin-wit>=1.6.0 in /opt/conda/lib/python3.7/site-packages (from tensorboard<2.7,>=2.6.0->tensorflow) (1.8.1)\r\n",
      "Requirement already satisfied: tensorboard-data-server<0.7.0,>=0.6.0 in /opt/conda/lib/python3.7/site-packages (from tensorboard<2.7,>=2.6.0->tensorflow) (0.6.1)\r\n",
      "Requirement already satisfied: werkzeug>=0.11.15 in /opt/conda/lib/python3.7/site-packages (from tensorboard<2.7,>=2.6.0->tensorflow) (2.2.2)\r\n",
      "Requirement already satisfied: markdown>=2.6.8 in /opt/conda/lib/python3.7/site-packages (from tensorboard<2.7,>=2.6.0->tensorflow) (3.3.7)\r\n",
      "Requirement already satisfied: rsa<5,>=3.1.4 in /opt/conda/lib/python3.7/site-packages (from google-auth<2,>=1.6.3->tensorboard<2.7,>=2.6.0->tensorflow) (4.8)\r\n",
      "Requirement already satisfied: pyasn1-modules>=0.2.1 in /opt/conda/lib/python3.7/site-packages (from google-auth<2,>=1.6.3->tensorboard<2.7,>=2.6.0->tensorflow) (0.2.7)\r\n",
      "Requirement already satisfied: cachetools<5.0,>=2.0.0 in /opt/conda/lib/python3.7/site-packages (from google-auth<2,>=1.6.3->tensorboard<2.7,>=2.6.0->tensorflow) (4.2.4)\r\n",
      "Requirement already satisfied: requests-oauthlib>=0.7.0 in /opt/conda/lib/python3.7/site-packages (from google-auth-oauthlib<0.5,>=0.4.1->tensorboard<2.7,>=2.6.0->tensorflow) (1.3.1)\r\n",
      "Requirement already satisfied: importlib-metadata>=4.4 in /opt/conda/lib/python3.7/site-packages (from markdown>=2.6.8->tensorboard<2.7,>=2.6.0->tensorflow) (4.13.0)\r\n",
      "Requirement already satisfied: urllib3<1.27,>=1.21.1 in /opt/conda/lib/python3.7/site-packages (from requests<3,>=2.21.0->tensorboard<2.7,>=2.6.0->tensorflow) (1.26.12)\r\n",
      "Requirement already satisfied: certifi>=2017.4.17 in /opt/conda/lib/python3.7/site-packages (from requests<3,>=2.21.0->tensorboard<2.7,>=2.6.0->tensorflow) (2022.9.24)\r\n",
      "Requirement already satisfied: idna<4,>=2.5 in /opt/conda/lib/python3.7/site-packages (from requests<3,>=2.21.0->tensorboard<2.7,>=2.6.0->tensorflow) (3.3)\r\n",
      "Requirement already satisfied: charset-normalizer<3,>=2 in /opt/conda/lib/python3.7/site-packages (from requests<3,>=2.21.0->tensorboard<2.7,>=2.6.0->tensorflow) (2.1.0)\r\n",
      "Requirement already satisfied: MarkupSafe>=2.1.1 in /opt/conda/lib/python3.7/site-packages (from werkzeug>=0.11.15->tensorboard<2.7,>=2.6.0->tensorflow) (2.1.1)\r\n",
      "Requirement already satisfied: zipp>=0.5 in /opt/conda/lib/python3.7/site-packages (from importlib-metadata>=4.4->markdown>=2.6.8->tensorboard<2.7,>=2.6.0->tensorflow) (3.8.0)\r\n",
      "Requirement already satisfied: pyasn1<0.5.0,>=0.4.6 in /opt/conda/lib/python3.7/site-packages (from pyasn1-modules>=0.2.1->google-auth<2,>=1.6.3->tensorboard<2.7,>=2.6.0->tensorflow) (0.4.8)\r\n",
      "Requirement already satisfied: oauthlib>=3.0.0 in /opt/conda/lib/python3.7/site-packages (from requests-oauthlib>=0.7.0->google-auth-oauthlib<0.5,>=0.4.1->tensorboard<2.7,>=2.6.0->tensorflow) (3.2.0)\r\n",
      "Installing collected packages: typing-extensions, numpy, h5py, tensorboard\r\n",
      "  Attempting uninstall: typing-extensions\r\n",
      "    Found existing installation: typing_extensions 4.1.1\r\n",
      "    Uninstalling typing_extensions-4.1.1:\r\n",
      "      Successfully uninstalled typing_extensions-4.1.1\r\n",
      "  Attempting uninstall: numpy\r\n",
      "    Found existing installation: numpy 1.21.6\r\n",
      "    Uninstalling numpy-1.21.6:\r\n",
      "      Successfully uninstalled numpy-1.21.6\r\n",
      "  Attempting uninstall: h5py\r\n",
      "    Found existing installation: h5py 3.7.0\r\n",
      "    Uninstalling h5py-3.7.0:\r\n",
      "      Successfully uninstalled h5py-3.7.0\r\n",
      "  Attempting uninstall: tensorboard\r\n",
      "    Found existing installation: tensorboard 2.10.1\r\n",
      "    Uninstalling tensorboard-2.10.1:\r\n",
      "      Successfully uninstalled tensorboard-2.10.1\r\n",
      "\u001b[31mERROR: pip's dependency resolver does not currently take into account all the packages that are installed. This behaviour is the source of the following dependency conflicts.\r\n",
      "tensorflow-io 0.21.0 requires tensorflow-io-gcs-filesystem==0.21.0, which is not installed.\r\n",
      "dask-cudf 21.10.1 requires cupy-cuda114, which is not installed.\r\n",
      "beatrix-jupyterlab 3.1.7 requires google-cloud-bigquery-storage, which is not installed.\r\n",
      "xarray-einstats 0.2.2 requires numpy>=1.21, but you have numpy 1.19.5 which is incompatible.\r\n",
      "tfx-bsl 1.9.0 requires tensorflow!=2.0.*,!=2.1.*,!=2.2.*,!=2.3.*,!=2.4.*,!=2.5.*,!=2.6.*,!=2.7.*,!=2.8.*,<3,>=1.15.5, but you have tensorflow 2.6.4 which is incompatible.\r\n",
      "tensorflow-transform 1.9.0 requires tensorflow!=2.0.*,!=2.1.*,!=2.2.*,!=2.3.*,!=2.4.*,!=2.5.*,!=2.6.*,!=2.7.*,!=2.8.*,<2.10,>=1.15.5, but you have tensorflow 2.6.4 which is incompatible.\r\n",
      "tensorflow-serving-api 2.9.0 requires tensorflow<3,>=2.9.0, but you have tensorflow 2.6.4 which is incompatible.\r\n",
      "rich 12.6.0 requires typing-extensions<5.0,>=4.0.0; python_version < \"3.9\", but you have typing-extensions 3.10.0.2 which is incompatible.\r\n",
      "pytorch-lightning 1.7.7 requires tensorboard>=2.9.1, but you have tensorboard 2.6.0 which is incompatible.\r\n",
      "pytorch-lightning 1.7.7 requires typing-extensions>=4.0.0, but you have typing-extensions 3.10.0.2 which is incompatible.\r\n",
      "pytools 2022.1.12 requires typing-extensions>=4.0; python_version < \"3.11\", but you have typing-extensions 3.10.0.2 which is incompatible.\r\n",
      "pdpbox 0.2.1 requires matplotlib==3.1.1, but you have matplotlib 3.5.3 which is incompatible.\r\n",
      "pandas-profiling 3.1.0 requires markupsafe~=2.0.1, but you have markupsafe 2.1.1 which is incompatible.\r\n",
      "nnabla 1.31.0 requires numpy>=1.20.0, but you have numpy 1.19.5 which is incompatible.\r\n",
      "jaxlib 0.3.22+cuda11.cudnn805 requires numpy>=1.20, but you have numpy 1.19.5 which is incompatible.\r\n",
      "jax 0.3.23 requires numpy>=1.20, but you have numpy 1.19.5 which is incompatible.\r\n",
      "flax 0.6.1 requires typing-extensions>=4.1.1, but you have typing-extensions 3.10.0.2 which is incompatible.\r\n",
      "flake8 4.0.1 requires importlib-metadata<4.3; python_version < \"3.8\", but you have importlib-metadata 4.13.0 which is incompatible.\r\n",
      "featuretools 1.11.1 requires numpy>=1.21.0, but you have numpy 1.19.5 which is incompatible.\r\n",
      "dask-cudf 21.10.1 requires dask==2021.09.1, but you have dask 2022.2.0 which is incompatible.\r\n",
      "dask-cudf 21.10.1 requires distributed==2021.09.1, but you have distributed 2022.2.0 which is incompatible.\r\n",
      "cmdstanpy 1.0.7 requires numpy>=1.21, but you have numpy 1.19.5 which is incompatible.\r\n",
      "apache-beam 2.40.0 requires dill<0.3.2,>=0.3.1.1, but you have dill 0.3.5.1 which is incompatible.\r\n",
      "allennlp 2.10.1 requires h5py>=3.6.0, but you have h5py 3.1.0 which is incompatible.\r\n",
      "allennlp 2.10.1 requires numpy>=1.21.4, but you have numpy 1.19.5 which is incompatible.\r\n",
      "aioitertools 0.11.0 requires typing_extensions>=4.0; python_version < \"3.10\", but you have typing-extensions 3.10.0.2 which is incompatible.\r\n",
      "aiobotocore 2.4.0 requires botocore<1.27.60,>=1.27.59, but you have botocore 1.27.93 which is incompatible.\u001b[0m\u001b[31m\r\n",
      "\u001b[0mSuccessfully installed h5py-3.1.0 numpy-1.19.5 tensorboard-2.6.0 typing-extensions-3.10.0.2\r\n",
      "\u001b[33mWARNING: Running pip as the 'root' user can result in broken permissions and conflicting behaviour with the system package manager. It is recommended to use a virtual environment instead: https://pip.pypa.io/warnings/venv\u001b[0m\u001b[33m\r\n",
      "\u001b[0mRequirement already satisfied: matplotlib in /opt/conda/lib/python3.7/site-packages (3.5.3)\r\n",
      "Requirement already satisfied: numpy>=1.17 in /opt/conda/lib/python3.7/site-packages (from matplotlib) (1.19.5)\r\n",
      "Requirement already satisfied: pyparsing>=2.2.1 in /opt/conda/lib/python3.7/site-packages (from matplotlib) (3.0.9)\r\n",
      "Requirement already satisfied: pillow>=6.2.0 in /opt/conda/lib/python3.7/site-packages (from matplotlib) (9.1.1)\r\n",
      "Requirement already satisfied: python-dateutil>=2.7 in /opt/conda/lib/python3.7/site-packages (from matplotlib) (2.8.2)\r\n",
      "Requirement already satisfied: fonttools>=4.22.0 in /opt/conda/lib/python3.7/site-packages (from matplotlib) (4.33.3)\r\n",
      "Requirement already satisfied: cycler>=0.10 in /opt/conda/lib/python3.7/site-packages (from matplotlib) (0.11.0)\r\n",
      "Requirement already satisfied: packaging>=20.0 in /opt/conda/lib/python3.7/site-packages (from matplotlib) (21.3)\r\n",
      "Requirement already satisfied: kiwisolver>=1.0.1 in /opt/conda/lib/python3.7/site-packages (from matplotlib) (1.4.3)\r\n",
      "Requirement already satisfied: typing-extensions in /opt/conda/lib/python3.7/site-packages (from kiwisolver>=1.0.1->matplotlib) (3.10.0.2)\r\n",
      "Requirement already satisfied: six>=1.5 in /opt/conda/lib/python3.7/site-packages (from python-dateutil>=2.7->matplotlib) (1.15.0)\r\n",
      "\u001b[33mWARNING: Running pip as the 'root' user can result in broken permissions and conflicting behaviour with the system package manager. It is recommended to use a virtual environment instead: https://pip.pypa.io/warnings/venv\u001b[0m\u001b[33m\r\n",
      "\u001b[0m\u001b[31mERROR: Could not find a version that satisfies the requirement PIL (from versions: none)\u001b[0m\u001b[31m\r\n",
      "\u001b[0m\u001b[31mERROR: No matching distribution found for PIL\u001b[0m\u001b[31m\r\n",
      "\u001b[0m\u001b[31mERROR: Could not find a version that satisfies the requirement shutil (from versions: none)\u001b[0m\u001b[31m\r\n",
      "\u001b[0m\u001b[31mERROR: No matching distribution found for shutil\u001b[0m\u001b[31m\r\n",
      "\u001b[0m"
     ]
    }
   ],
   "source": [
    "!pip install imageio\n",
    "#!pip install git+https://github.com/tensorflow/docs\n",
    "!pip install elevation\n",
    "!pip install tensorflow\n",
    "!pip install matplotlib\n",
    "!pip install PIL\n",
    "!pip install shutil"
   ]
  },
  {
   "cell_type": "markdown",
   "id": "25295c12",
   "metadata": {
    "papermill": {
     "duration": 0.008896,
     "end_time": "2022-11-09T08:20:24.419629",
     "exception": false,
     "start_time": "2022-11-09T08:20:24.410733",
     "status": "completed"
    },
    "tags": []
   },
   "source": [
    "## *Import Dependancies*"
   ]
  },
  {
   "cell_type": "code",
   "execution_count": 3,
   "id": "6d926520",
   "metadata": {
    "execution": {
     "iopub.execute_input": "2022-11-09T08:20:24.440796Z",
     "iopub.status.busy": "2022-11-09T08:20:24.439827Z",
     "iopub.status.idle": "2022-11-09T08:20:28.852217Z",
     "shell.execute_reply": "2022-11-09T08:20:28.851287Z"
    },
    "papermill": {
     "duration": 4.425361,
     "end_time": "2022-11-09T08:20:28.854866",
     "exception": false,
     "start_time": "2022-11-09T08:20:24.429505",
     "status": "completed"
    },
    "tags": []
   },
   "outputs": [],
   "source": [
    "import tensorflow as tf             #For creating the networks\n",
    "import glob                         #Something to do with file (probably not necessary and should be removed)\n",
    "import imageio                      #Somethign to do with images (probably not necessary and should be removed)\n",
    "import matplotlib.pyplot as plt     #To plot elevation data\n",
    "import numpy as np                  #To deal with the arrays\n",
    "import os                           #To change system variables\n",
    "import PIL                          #To deal with images (specifically reading .tif files)\n",
    "from tensorflow.keras import layers #To create the network layers\n",
    "\n",
    "import shutil                       #To zip files (specifically the tensorboard logs)\n",
    "\n",
    "import datetime                     #Gets the current time and date (secifically to name the logs)\n",
    "\n",
    "import random                       #Creates random number and arrays to run the networks on\n",
    "import time                         #Gets the current time (specifically to measure time taken)\n",
    "import math                         #To run complex caluclation (specifically for calculating lat and long)\n",
    "\n",
    "from IPython import display         #To clear the output\n",
    "import elevation                    #To gather elevation data"
   ]
  },
  {
   "cell_type": "markdown",
   "id": "cf770aa1",
   "metadata": {
    "papermill": {
     "duration": 0.00863,
     "end_time": "2022-11-09T08:20:28.873645",
     "exception": false,
     "start_time": "2022-11-09T08:20:28.865015",
     "status": "completed"
    },
    "tags": []
   },
   "source": [
    "## *Set Environmental Variables*"
   ]
  },
  {
   "cell_type": "code",
   "execution_count": 4,
   "id": "b1bb403a",
   "metadata": {
    "execution": {
     "iopub.execute_input": "2022-11-09T08:20:28.893294Z",
     "iopub.status.busy": "2022-11-09T08:20:28.892790Z",
     "iopub.status.idle": "2022-11-09T08:20:28.898164Z",
     "shell.execute_reply": "2022-11-09T08:20:28.897210Z"
    },
    "papermill": {
     "duration": 0.018602,
     "end_time": "2022-11-09T08:20:28.900916",
     "exception": false,
     "start_time": "2022-11-09T08:20:28.882314",
     "status": "completed"
    },
    "tags": []
   },
   "outputs": [
    {
     "name": "stdout",
     "output_type": "stream",
     "text": [
      "cuda_malloc_async\n"
     ]
    }
   ],
   "source": [
    "os.environ[\"TF_GPU_ALLOCATOR\"] = \"cuda_malloc_async\"  #Set GPU to be more memory efficient\n",
    "print(os.environ.get(\"TF_GPU_ALLOCATOR\"))             #Check system variable has changed"
   ]
  },
  {
   "cell_type": "markdown",
   "id": "fa2613d2",
   "metadata": {
    "papermill": {
     "duration": 0.00889,
     "end_time": "2022-11-09T08:20:28.920171",
     "exception": false,
     "start_time": "2022-11-09T08:20:28.911281",
     "status": "completed"
    },
    "tags": []
   },
   "source": [
    "## *Set Strategy*"
   ]
  },
  {
   "cell_type": "code",
   "execution_count": 5,
   "id": "fc6d0565",
   "metadata": {
    "execution": {
     "iopub.execute_input": "2022-11-09T08:20:28.939595Z",
     "iopub.status.busy": "2022-11-09T08:20:28.939291Z",
     "iopub.status.idle": "2022-11-09T08:20:28.944156Z",
     "shell.execute_reply": "2022-11-09T08:20:28.943092Z"
    },
    "papermill": {
     "duration": 0.017242,
     "end_time": "2022-11-09T08:20:28.946656",
     "exception": false,
     "start_time": "2022-11-09T08:20:28.929414",
     "status": "completed"
    },
    "tags": []
   },
   "outputs": [],
   "source": [
    "#Checks for TPU\n",
    "try:\n",
    "    tpu = tf.distribute.cluster_resolver.TPUClusterResolver()\n",
    "except ValueError:\n",
    "    tpu = None"
   ]
  },
  {
   "cell_type": "markdown",
   "id": "6e1b3a69",
   "metadata": {
    "papermill": {
     "duration": 0.008641,
     "end_time": "2022-11-09T08:20:28.964384",
     "exception": false,
     "start_time": "2022-11-09T08:20:28.955743",
     "status": "completed"
    },
    "tags": []
   },
   "source": [
    "# Setup Necessary Variables"
   ]
  },
  {
   "cell_type": "code",
   "execution_count": 6,
   "id": "f586bf74",
   "metadata": {
    "execution": {
     "iopub.execute_input": "2022-11-09T08:20:28.983216Z",
     "iopub.status.busy": "2022-11-09T08:20:28.982921Z",
     "iopub.status.idle": "2022-11-09T08:20:31.855390Z",
     "shell.execute_reply": "2022-11-09T08:20:31.854335Z"
    },
    "papermill": {
     "duration": 2.885593,
     "end_time": "2022-11-09T08:20:31.858816",
     "exception": false,
     "start_time": "2022-11-09T08:20:28.973223",
     "status": "completed"
    },
    "tags": []
   },
   "outputs": [
    {
     "name": "stderr",
     "output_type": "stream",
     "text": [
      "2022-11-09 08:20:29.053627: I tensorflow/stream_executor/cuda/cuda_gpu_executor.cc:937] successful NUMA node read from SysFS had negative value (-1), but there must be at least one NUMA node, so returning NUMA node zero\n",
      "2022-11-09 08:20:29.153803: I tensorflow/stream_executor/cuda/cuda_gpu_executor.cc:937] successful NUMA node read from SysFS had negative value (-1), but there must be at least one NUMA node, so returning NUMA node zero\n",
      "2022-11-09 08:20:29.154760: I tensorflow/stream_executor/cuda/cuda_gpu_executor.cc:937] successful NUMA node read from SysFS had negative value (-1), but there must be at least one NUMA node, so returning NUMA node zero\n",
      "2022-11-09 08:20:29.162034: I tensorflow/core/platform/cpu_feature_guard.cc:142] This TensorFlow binary is optimized with oneAPI Deep Neural Network Library (oneDNN) to use the following CPU instructions in performance-critical operations:  AVX2 AVX512F FMA\n",
      "To enable them in other operations, rebuild TensorFlow with the appropriate compiler flags.\n",
      "2022-11-09 08:20:29.162405: I tensorflow/stream_executor/cuda/cuda_gpu_executor.cc:937] successful NUMA node read from SysFS had negative value (-1), but there must be at least one NUMA node, so returning NUMA node zero\n",
      "2022-11-09 08:20:29.163270: I tensorflow/stream_executor/cuda/cuda_gpu_executor.cc:937] successful NUMA node read from SysFS had negative value (-1), but there must be at least one NUMA node, so returning NUMA node zero\n",
      "2022-11-09 08:20:29.164141: I tensorflow/stream_executor/cuda/cuda_gpu_executor.cc:937] successful NUMA node read from SysFS had negative value (-1), but there must be at least one NUMA node, so returning NUMA node zero\n",
      "2022-11-09 08:20:31.467247: I tensorflow/stream_executor/cuda/cuda_gpu_executor.cc:937] successful NUMA node read from SysFS had negative value (-1), but there must be at least one NUMA node, so returning NUMA node zero\n",
      "2022-11-09 08:20:31.468112: I tensorflow/stream_executor/cuda/cuda_gpu_executor.cc:937] successful NUMA node read from SysFS had negative value (-1), but there must be at least one NUMA node, so returning NUMA node zero\n",
      "2022-11-09 08:20:31.468800: I tensorflow/stream_executor/cuda/cuda_gpu_executor.cc:937] successful NUMA node read from SysFS had negative value (-1), but there must be at least one NUMA node, so returning NUMA node zero\n",
      "2022-11-09 08:20:31.469454: E tensorflow/core/common_runtime/gpu/gpu_process_state.cc:69] TF_GPU_ALLOCATOR=cuda_malloc_async environment found, but TensorFlow was not compiled with CUDA 11.2+.\n",
      "2022-11-09 08:20:31.469488: I tensorflow/core/common_runtime/gpu/gpu_device.cc:1510] Created device /job:localhost/replica:0/task:0/device:GPU:0 with 15401 MB memory:  -> device: 0, name: Tesla P100-PCIE-16GB, pci bus id: 0000:00:04.0, compute capability: 6.0\n"
     ]
    }
   ],
   "source": [
    "BUFFER_SIZE = 60000 #Unsure what this does\n",
    "\n",
    "noise_dim = 100\n",
    "num_examples_to_generate = 16\n",
    "\n",
    "# You will reuse this seed overtime (so it's easier) to visualize progress in the animated GIF)\n",
    "seed = tf.random.normal([num_examples_to_generate, noise_dim])"
   ]
  },
  {
   "cell_type": "markdown",
   "id": "fbc2fb49",
   "metadata": {
    "papermill": {
     "duration": 0.009834,
     "end_time": "2022-11-09T08:20:31.880274",
     "exception": false,
     "start_time": "2022-11-09T08:20:31.870440",
     "status": "completed"
    },
    "tags": []
   },
   "source": [
    "# Collect Training Data\n",
    "* *Download elevation data*\n",
    "* *Read pre-downloaded elevation data*"
   ]
  },
  {
   "cell_type": "code",
   "execution_count": 7,
   "id": "5b8b74be",
   "metadata": {
    "execution": {
     "iopub.execute_input": "2022-11-09T08:20:31.900567Z",
     "iopub.status.busy": "2022-11-09T08:20:31.900223Z",
     "iopub.status.idle": "2022-11-09T08:20:31.910875Z",
     "shell.execute_reply": "2022-11-09T08:20:31.909973Z"
    },
    "papermill": {
     "duration": 0.02309,
     "end_time": "2022-11-09T08:20:31.912854",
     "exception": false,
     "start_time": "2022-11-09T08:20:31.889764",
     "status": "completed"
    },
    "tags": []
   },
   "outputs": [],
   "source": [
    "if(train_type == 2):\n",
    "    #Function to download new elevation\n",
    "    def get_elevation(num_samples):   #Num_sampels - number of elevation arrays to generate\n",
    "        global save_num  #Used to create file name\n",
    "        num_samples_start = num_samples #Used to record and print current elevation (so you can see where it is up to)\n",
    "        elevation_data = []  #Array to hold all elevation samples\n",
    "\n",
    "        while(num_samples > 0): #Loop to download correct number of samples\n",
    "            try:  #Try statement to stop faulty or missing elevation data (common occurance) from crashing entire program\n",
    "                #Top lat long cordinates\n",
    "                East1 = random.uniform(-180, 180)\n",
    "                North1 = random.uniform(-90, 90)\n",
    "\n",
    "                #Calculating lat coordinate 20km from previous\n",
    "                latitude_difference = 20/111.1945\n",
    "                North2 = North1 + latitude_difference\n",
    "\n",
    "                #Calculating long coordinate 20km from previous\n",
    "                longitute_difference = 20 / (111.1945 * math.cos(math.radians(North2)))\n",
    "                East2 = East1 + longitute_difference\n",
    "\n",
    "                #Gather elevation data as tif\n",
    "                elevation_tif = elevation.clip(bounds=(East1, North1, East2, North2), output=\"/content/tmp.tif\")\n",
    "\n",
    "                elevation_im = PIL.Image.open(\"/content/tmp.tif\") #Read .tif elevation file\n",
    "                elevation_im = elevation_im.resize((644,644))     #Resize elevation data to match others\n",
    "                elevation_np = np.array(elevation_im)             #Convert data to numpy array for easier storage and manipulation\n",
    "\n",
    "                elevation_data.append(elevation_np)  #Append to other samples\n",
    "\n",
    "                num_samples -= 1\n",
    "            except:\n",
    "                print(\"Exception\")\n",
    "\n",
    "        elevation_data = np.array(elevation_data) #Convert to numpy array\n",
    "        np.save(\"/content/elevation_files/elevation_data\" + str(save_num) + \"(num_samples: \" + str(num_samples_start) + \")\", elevation_data) #Save numpy array for later use\n",
    "        save_num += 1\n",
    "\n",
    "        #Proccess numpy array into tensor\n",
    "        elevation_data = elevation_data.reshape(elevation_data.shape[0], elevation_data.shape[1], elevation_data.shape[2], 1).astype('float32')\n",
    "        tf.convert_to_tensor(elevation_data)\n",
    "        elevation_dataset = tf.data.Dataset.from_tensor_slices(elevation_data).shuffle(BUFFER_SIZE).batch(BATCH_SIZE)\n",
    "\n",
    "        return elevation_dataset\n",
    "    \n",
    "    for n in range(number_of_files):\n",
    "        get_elevation(number_of_samples)\n",
    "        shutil.make_archive(\"elevation_files\", \"zip\", \"elevation_files\")"
   ]
  },
  {
   "cell_type": "code",
   "execution_count": 8,
   "id": "56186f68",
   "metadata": {
    "execution": {
     "iopub.execute_input": "2022-11-09T08:20:31.934006Z",
     "iopub.status.busy": "2022-11-09T08:20:31.933137Z",
     "iopub.status.idle": "2022-11-09T08:20:31.940291Z",
     "shell.execute_reply": "2022-11-09T08:20:31.939427Z"
    },
    "papermill": {
     "duration": 0.020144,
     "end_time": "2022-11-09T08:20:31.942387",
     "exception": false,
     "start_time": "2022-11-09T08:20:31.922243",
     "status": "completed"
    },
    "tags": []
   },
   "outputs": [],
   "source": [
    "if(train_type < 2):\n",
    "    def load_elevation(paths):\n",
    "        elevation_data = np.load(paths[0])\n",
    "        first = True\n",
    "        for path in paths:\n",
    "            if(first != True):\n",
    "                elevation_data = np.append(elevation_data, np.load(path), 0)\n",
    "            first = False\n",
    "\n",
    "        elevation_data = elevation_data.reshape(elevation_data.shape[0], elevation_data.shape[1], elevation_data.shape[2], 1).astype('float32')\n",
    "\n",
    "        tf.convert_to_tensor(elevation_data)\n",
    "        elevation_dataset = tf.data.Dataset.from_tensor_slices(elevation_data).shuffle(BUFFER_SIZE).batch(BATCH_SIZE)\n",
    "        \n",
    "        return elevation_dataset"
   ]
  },
  {
   "cell_type": "markdown",
   "id": "2ba694e6",
   "metadata": {
    "papermill": {
     "duration": 0.009424,
     "end_time": "2022-11-09T08:20:31.961346",
     "exception": false,
     "start_time": "2022-11-09T08:20:31.951922",
     "status": "completed"
    },
    "tags": []
   },
   "source": [
    "# Create GAN\n",
    "* *Define and create generator*\n",
    "* *Define and create discriminator*\n",
    "* *Define training loop*"
   ]
  },
  {
   "cell_type": "code",
   "execution_count": 9,
   "id": "6a7adeb8",
   "metadata": {
    "execution": {
     "iopub.execute_input": "2022-11-09T08:20:31.981648Z",
     "iopub.status.busy": "2022-11-09T08:20:31.980871Z",
     "iopub.status.idle": "2022-11-09T08:20:31.993133Z",
     "shell.execute_reply": "2022-11-09T08:20:31.992177Z"
    },
    "papermill": {
     "duration": 0.024391,
     "end_time": "2022-11-09T08:20:31.995267",
     "exception": false,
     "start_time": "2022-11-09T08:20:31.970876",
     "status": "completed"
    },
    "tags": []
   },
   "outputs": [],
   "source": [
    "#Function to define generator network\n",
    "def make__variable_generator_model(var1, var2, var3, var4, var5, var6, var7, var8, var9, var10, var11, var12):\n",
    "    #Input layer which will take a random array\n",
    "    model = tf.keras.Sequential()\n",
    "    model.add(layers.Dense(23*23*256, use_bias=False, input_shape=(100,)))\n",
    "    model.add(layers.BatchNormalization())\n",
    "    model.add(layers.LeakyReLU())\n",
    "\n",
    "    model.add(layers.Reshape((23, 23, 256)))\n",
    "    assert model.output_shape == (None, 23, 23, 256)  # Note: None is the batch size\n",
    "\n",
    "    model.add(layers.Conv2DTranspose(var1, var2, strides=var3, padding='same', use_bias=False))\n",
    "    assert model.output_shape == (None, 23*var3[0], 23*var3[1], var1)\n",
    "    model.add(layers.BatchNormalization())\n",
    "    model.add(layers.LeakyReLU())\n",
    "\n",
    "    model.add(layers.Conv2DTranspose(var4, var5, strides=var6, padding='same', use_bias=False))\n",
    "    assert model.output_shape == (None, 23*var3[0]*var6[0], 23*var3[1]*var6[1], var4)\n",
    "    model.add(layers.BatchNormalization())\n",
    "    model.add(layers.LeakyReLU())\n",
    "    \n",
    "    model.add(layers.Conv2DTranspose(var7, var8, strides=var9, padding='same', use_bias=False))\n",
    "    assert model.output_shape == (None, 23*var3[0]*var6[0]*var9[0], 23*var3[1]*var6[1]*var9[1], var7)\n",
    "    \n",
    "    if(var10 != 0):\n",
    "        model.add(layers.BatchNormalization())\n",
    "        model.add(layers.LeakyReLU())\n",
    "\n",
    "        model.add(layers.Conv2DTranspose(var10, var11, strides=var12, padding='same', use_bias=False))\n",
    "        assert model.output_shape == (None, 23*var3[0]*var6[0]*var9[0]*var12[0], 23*var3[1]*var6[1]*var9[1]*var12[1], var10)\n",
    "\n",
    "    return model"
   ]
  },
  {
   "cell_type": "code",
   "execution_count": 10,
   "id": "ed77f4f8",
   "metadata": {
    "execution": {
     "iopub.execute_input": "2022-11-09T08:20:32.014806Z",
     "iopub.status.busy": "2022-11-09T08:20:32.014038Z",
     "iopub.status.idle": "2022-11-09T08:20:32.022887Z",
     "shell.execute_reply": "2022-11-09T08:20:32.021909Z"
    },
    "papermill": {
     "duration": 0.02083,
     "end_time": "2022-11-09T08:20:32.024939",
     "exception": false,
     "start_time": "2022-11-09T08:20:32.004109",
     "status": "completed"
    },
    "tags": []
   },
   "outputs": [
    {
     "data": {
      "text/plain": [
       "\"generator = make_generator_model()    #Create generator network\\n\\n\\n#Test the network with a random array\\nnoise = tf.random.normal([1, 100])  #Create random array\\ngenerated_image = generator(noise, training=False)   #Use generator with random array\\n\\nplt.imshow(generated_image[0, :, :, 0], cmap='gray')  #Plot (show) generated image\""
      ]
     },
     "execution_count": 10,
     "metadata": {},
     "output_type": "execute_result"
    }
   ],
   "source": [
    "'''generator = make_generator_model()    #Create generator network\n",
    "\n",
    "\n",
    "#Test the network with a random array\n",
    "noise = tf.random.normal([1, 100])  #Create random array\n",
    "generated_image = generator(noise, training=False)   #Use generator with random array\n",
    "\n",
    "plt.imshow(generated_image[0, :, :, 0], cmap='gray')  #Plot (show) generated image'''"
   ]
  },
  {
   "cell_type": "code",
   "execution_count": 11,
   "id": "76785832",
   "metadata": {
    "execution": {
     "iopub.execute_input": "2022-11-09T08:20:32.046769Z",
     "iopub.status.busy": "2022-11-09T08:20:32.045313Z",
     "iopub.status.idle": "2022-11-09T08:20:32.052968Z",
     "shell.execute_reply": "2022-11-09T08:20:32.052125Z"
    },
    "papermill": {
     "duration": 0.020397,
     "end_time": "2022-11-09T08:20:32.054907",
     "exception": false,
     "start_time": "2022-11-09T08:20:32.034510",
     "status": "completed"
    },
    "tags": []
   },
   "outputs": [],
   "source": [
    "#Function to define discriminator model (controlled with variables)\n",
    "def make_variable_discriminator_model(var1, var2, var3, var4, var5, var6, var7, var8, var9):\n",
    "    #Input layer takes real or fake elevation data\n",
    "    model = tf.keras.Sequential()\n",
    "    model.add(layers.Conv2D(var1, var2, strides=var3, padding='same',\n",
    "                                     input_shape=[644, 644, 1]))\n",
    "    model.add(layers.LeakyReLU())\n",
    "\n",
    "    model.add(layers.Conv2D(var4, var5, strides=var6, padding='same',\n",
    "                                     input_shape=[644, 644, var1]))\n",
    "    model.add(layers.LeakyReLU())\n",
    "\n",
    "    model.add(layers.Conv2D(var7, var8, strides=var9, padding='same',\n",
    "                                     input_shape=[644, 644, var4]))\n",
    "    model.add(layers.LeakyReLU())\n",
    "\n",
    "    #Output layer has one neuron with output between 0 and 1 (using sigmoid activation)\n",
    "    model.add(layers.Flatten())\n",
    "    model.add(layers.Dense(1, activation=tf.keras.activations.sigmoid))\n",
    "\n",
    "    return model"
   ]
  },
  {
   "cell_type": "code",
   "execution_count": 12,
   "id": "a8179fea",
   "metadata": {
    "execution": {
     "iopub.execute_input": "2022-11-09T08:20:32.074910Z",
     "iopub.status.busy": "2022-11-09T08:20:32.074178Z",
     "iopub.status.idle": "2022-11-09T08:20:32.079741Z",
     "shell.execute_reply": "2022-11-09T08:20:32.078846Z"
    },
    "papermill": {
     "duration": 0.017786,
     "end_time": "2022-11-09T08:20:32.081756",
     "exception": false,
     "start_time": "2022-11-09T08:20:32.063970",
     "status": "completed"
    },
    "tags": []
   },
   "outputs": [
    {
     "data": {
      "text/plain": [
       "'#Create discriminator\\ndiscriminator = make_discriminator_model()\\n\\n#Test the discriminator on previously generated image\\ndecision = discriminator(generated_image)\\nprint (decision)'"
      ]
     },
     "execution_count": 12,
     "metadata": {},
     "output_type": "execute_result"
    }
   ],
   "source": [
    "'''#Create discriminator\n",
    "discriminator = make_discriminator_model()\n",
    "\n",
    "#Test the discriminator on previously generated image\n",
    "decision = discriminator(generated_image)\n",
    "print (decision)'''"
   ]
  },
  {
   "cell_type": "code",
   "execution_count": 13,
   "id": "9255bdab",
   "metadata": {
    "execution": {
     "iopub.execute_input": "2022-11-09T08:20:32.101333Z",
     "iopub.status.busy": "2022-11-09T08:20:32.101072Z",
     "iopub.status.idle": "2022-11-09T08:20:32.149906Z",
     "shell.execute_reply": "2022-11-09T08:20:32.149051Z"
    },
    "papermill": {
     "duration": 0.060963,
     "end_time": "2022-11-09T08:20:32.151886",
     "exception": false,
     "start_time": "2022-11-09T08:20:32.090923",
     "status": "completed"
    },
    "tags": []
   },
   "outputs": [],
   "source": [
    "cross_entropy = tf.keras.losses.BinaryCrossentropy(from_logits=True, reduction=tf.keras.losses.Reduction.NONE)\n",
    "def discriminator_loss(real_output, fake_output):\n",
    "    real_loss = cross_entropy(tf.ones_like(real_output), real_output)\n",
    "    fake_loss = cross_entropy(tf.zeros_like(fake_output), fake_output)\n",
    "    total_loss = real_loss + fake_loss\n",
    "    return tf.nn.compute_average_loss(total_loss, global_batch_size=BATCH_SIZE)\n",
    "\n",
    "def generator_loss(fake_output):\n",
    "    return tf.nn.compute_average_loss(cross_entropy(tf.ones_like(fake_output), fake_output), global_batch_size=BATCH_SIZE)\n",
    "\n",
    "generator_optimizer = tf.keras.optimizers.Adamax(1e-4)\n",
    "generator_optimizer = tf.keras.mixed_precision.LossScaleOptimizer(generator_optimizer)\n",
    "\n",
    "discriminator_optimizer = tf.keras.optimizers.Adamax(1e-4)\n",
    "discriminator_optimizer = tf.keras.mixed_precision.LossScaleOptimizer(discriminator_optimizer)\n",
    "\n",
    "'''checkpoint_dir = './training_checkpoints'\n",
    "checkpoint_prefix = os.path.join(checkpoint_dir, \"ckpt\")\n",
    "checkpoint = None'''\n",
    "\n",
    "# Define our metrics\n",
    "if(tpu == None):\n",
    "    train_disc_real_loss = tf.keras.metrics.Mean('train_disc_real_loss', dtype=tf.float32)\n",
    "    train_disc_real_accuracy = tf.keras.metrics.MeanSquaredError('train_disc_real_accuracy')\n",
    "\n",
    "    train_disc_fake_loss = tf.keras.metrics.Mean('train_disc_fake_loss', dtype=tf.float32)\n",
    "    train_disc_fake_accuracy = tf.keras.metrics.MeanSquaredError('train_disc_fake_accuracy')\n",
    "\n",
    "    train_gen_loss = tf.keras.metrics.Mean('train_gen_loss', dtype=tf.float32)\n",
    "    train_gen_accuracy = tf.keras.metrics.MeanSquaredError('train_gen_accuracy')\n",
    "\n",
    "run_num = 1\n",
    "\n",
    "\n",
    "def generate_and_save_images(model, epoch, test_input):\n",
    "  # Notice `training` is set to False.\n",
    "  # This is so all layers run in inference mode (batchnorm).\n",
    "  predictions = model(test_input, training=False)\n",
    "\n",
    "  fig = plt.figure(figsize=(4, 4))\n",
    "\n",
    "  for i in range(predictions.shape[0]):\n",
    "    plt.subplot(4, 4, i+1)\n",
    "    plt.imshow(predictions[i, :, :, 0])\n",
    "    plt.axis('off')\n",
    "\n",
    "  #plt.savefig('image_at_epoch_{:04d}.png'.format(epoch))\n",
    "  plt.show()\n",
    "    \n",
    "Epoch_offset = 0"
   ]
  },
  {
   "cell_type": "markdown",
   "id": "ab750bc7",
   "metadata": {
    "papermill": {
     "duration": 0.009058,
     "end_time": "2022-11-09T08:20:32.170141",
     "exception": false,
     "start_time": "2022-11-09T08:20:32.161083",
     "status": "completed"
    },
    "tags": []
   },
   "source": [
    "# Training Network"
   ]
  },
  {
   "cell_type": "markdown",
   "id": "42489bb7",
   "metadata": {
    "papermill": {
     "duration": 0.009034,
     "end_time": "2022-11-09T08:20:32.188209",
     "exception": false,
     "start_time": "2022-11-09T08:20:32.179175",
     "status": "completed"
    },
    "tags": []
   },
   "source": [
    "**Single Train**"
   ]
  },
  {
   "cell_type": "code",
   "execution_count": 14,
   "id": "0146b2b3",
   "metadata": {
    "execution": {
     "iopub.execute_input": "2022-11-09T08:20:32.217259Z",
     "iopub.status.busy": "2022-11-09T08:20:32.216486Z",
     "iopub.status.idle": "2022-11-09T08:20:32.234982Z",
     "shell.execute_reply": "2022-11-09T08:20:32.234121Z"
    },
    "papermill": {
     "duration": 0.039621,
     "end_time": "2022-11-09T08:20:32.236878",
     "exception": false,
     "start_time": "2022-11-09T08:20:32.197257",
     "status": "completed"
    },
    "tags": []
   },
   "outputs": [],
   "source": [
    "if(train_type == 1):\n",
    "    @tf.function\n",
    "    def train_step(images, generator_model, discriminator_model):\n",
    "        noise = tf.random.normal([BATCH_SIZE, noise_dim])\n",
    "\n",
    "        with tf.GradientTape() as gen_tape, tf.GradientTape() as disc_tape:\n",
    "            generated_images = generator_model(noise, training=True)\n",
    "\n",
    "            real_output = discriminator_model(images, training=True)\n",
    "            fake_output = discriminator_model(generated_images, training=True)\n",
    "\n",
    "            gen_loss = generator_loss(fake_output)\n",
    "            disc_loss = discriminator_loss(real_output, fake_output)\n",
    "\n",
    "            scaled_gen_loss = generator_optimizer.get_scaled_loss(gen_loss)\n",
    "            scaled_disc_loss = discriminator_optimizer.get_scaled_loss(disc_loss)\n",
    "\n",
    "            #Tensorboard Logs\n",
    "            if(tpu==None):\n",
    "                train_disc_real_loss(cross_entropy(tf.ones_like(real_output), real_output))\n",
    "                train_disc_real_accuracy(tf.ones_like(real_output), real_output)\n",
    "\n",
    "                train_disc_fake_loss(cross_entropy(tf.zeros_like(fake_output), fake_output))\n",
    "                train_disc_fake_accuracy(tf.zeros_like(fake_output), fake_output)\n",
    "\n",
    "                train_gen_loss(gen_loss)\n",
    "                train_gen_accuracy(tf.ones_like(fake_output), fake_output)\n",
    "\n",
    "        scaled_gradients_of_generator = gen_tape.gradient(scaled_gen_loss, generator_model.trainable_variables)\n",
    "        scaled_gradients_of_discriminator = disc_tape.gradient(scaled_disc_loss, discriminator_model.trainable_variables)\n",
    "\n",
    "        gradients_of_generator = generator_optimizer.get_unscaled_gradients(scaled_gradients_of_generator)\n",
    "        gradients_of_discriminator = discriminator_optimizer.get_unscaled_gradients(scaled_gradients_of_discriminator)\n",
    "\n",
    "        generator_optimizer.apply_gradients(zip(gradients_of_generator, generator_model.trainable_variables))\n",
    "        discriminator_optimizer.apply_gradients(zip(gradients_of_discriminator, discriminator_model.trainable_variables))\n",
    "    #####END FUNCTION#####\n",
    "\n",
    "    #####TRAIN FUNCTION#####\n",
    "    def train(dataset, epochs, zip_after, generator_model, discriminator_model):\n",
    "        if(tpu==None):\n",
    "            current_time = datetime.datetime.now().strftime(\"%Y%m%d-%H%M%S\")\n",
    "            train_log_dir = 'logs/gradient_tape/' + current_time + '/train'\n",
    "            test_log_dir = 'logs/gradient_tape/' + current_time + '/test'\n",
    "            train_summary_writer = tf.summary.create_file_writer(train_log_dir)\n",
    "            test_summary_writer = tf.summary.create_file_writer(test_log_dir)\n",
    "\n",
    "        for epoch in range(epochs):\n",
    "            start = time.time()\n",
    "\n",
    "            for image_batch in dataset:\n",
    "                train_step(image_batch, generator_model, discriminator_model)\n",
    "\n",
    "            if(tpu==None):\n",
    "                with train_summary_writer.as_default():\n",
    "                    tf.summary.scalar('train_disc_real_loss:', train_disc_real_loss.result(), step=epoch+Epoch_offset)\n",
    "                    tf.summary.scalar('train_disc_real_accuracy:', train_disc_real_accuracy.result(), step=epoch+Epoch_offset)\n",
    "\n",
    "                    tf.summary.scalar('train_disc_fake_loss:', train_disc_fake_loss.result(), step=epoch+Epoch_offset)\n",
    "                    tf.summary.scalar('train_disc_fake_accuracy:', train_disc_fake_accuracy.result(), step=epoch+Epoch_offset)\n",
    "\n",
    "                    tf.summary.scalar('train_gen_loss:', train_gen_loss.result(), step=epoch+Epoch_offset)\n",
    "                    tf.summary.scalar('train_gen_accuracy:', train_gen_accuracy.result(), step=epoch+Epoch_offset)\n",
    "\n",
    "            # Produce images for the GIF as you go\n",
    "            display.clear_output(wait=True)\n",
    "            generate_and_save_images(generator_model,\n",
    "                                     epoch + 1,\n",
    "                                     seed)\n",
    "\n",
    "            # Save the model every 15 epochs\n",
    "            '''if (epoch + 1) % 15 == 0:\n",
    "              checkpoint.save(file_prefix = checkpoint_prefix)'''\n",
    "\n",
    "            if ((epoch + 1) % zip_after and tpu == None) == 0:\n",
    "                shutil.make_archive(\"logs\", \"zip\", \"logs\")\n",
    "\n",
    "            print ('Time for epoch {} is {} sec'.format(epoch + 1, time.time()-start))\n",
    "\n",
    "\n",
    "        #Reset tensorboard writers\n",
    "        if(tpu==None):\n",
    "            train_disc_real_loss.reset_states()\n",
    "            train_disc_real_accuracy.reset_states()\n",
    "\n",
    "            train_disc_fake_loss.reset_states()\n",
    "            train_disc_fake_accuracy.reset_states()\n",
    "\n",
    "            train_gen_loss.reset_states()\n",
    "            train_gen_accuracy.reset_states()\n",
    "\n",
    "      # Generate after the final epoch\n",
    "        display.clear_output(wait=True)\n",
    "        generate_and_save_images(generator_model,\n",
    "                                   epochs,\n",
    "                                   seed)\n",
    "    ####END FUNCTION####\n",
    "\n",
    "    gen_model = make_generator_model()    #Create generator network\n",
    "    disc_model = make_variable_discriminator_model(discriminator_params[0,0], discriminator_params[0,1], discriminator_params[0,2], discriminator_params[0,3], discriminator_params[0,4], discriminator_params[0,5], discriminator_params[0,6], discriminator_params[0,7], discriminator_params[0,8]) #Create Discriminator\n",
    "    \n",
    "    train(load_elevation(training_paths), EPOCHS, 5, gen_model, disc_param)"
   ]
  },
  {
   "cell_type": "markdown",
   "id": "e42cf926",
   "metadata": {
    "papermill": {
     "duration": 0.009032,
     "end_time": "2022-11-09T08:20:32.255112",
     "exception": false,
     "start_time": "2022-11-09T08:20:32.246080",
     "status": "completed"
    },
    "tags": []
   },
   "source": [
    "**Multiple Trains**"
   ]
  },
  {
   "cell_type": "code",
   "execution_count": 15,
   "id": "892060b2",
   "metadata": {
    "execution": {
     "iopub.execute_input": "2022-11-09T08:20:32.274942Z",
     "iopub.status.busy": "2022-11-09T08:20:32.274590Z",
     "iopub.status.idle": "2022-11-09T08:20:32.294901Z",
     "shell.execute_reply": "2022-11-09T08:20:32.294098Z"
    },
    "papermill": {
     "duration": 0.032612,
     "end_time": "2022-11-09T08:20:32.296807",
     "exception": false,
     "start_time": "2022-11-09T08:20:32.264195",
     "status": "completed"
    },
    "tags": []
   },
   "outputs": [],
   "source": [
    "if(train_type == 0):\n",
    "    #Function to train the network on different parameters (easier to identify the best parameters)\n",
    "    def variable_train(gen_params, disc_params, training_data, num_epochs, zip_after):\n",
    "        train_num = 0\n",
    "        for gen_param in gen_params:\n",
    "            for disc_param in disc_params:\n",
    "                train_num += 1\n",
    "                gen_model = make__variable_generator_model(gen_param[0], gen_param[1], gen_param[2], gen_param[3], gen_param[4], gen_param[5], gen_param[6], gen_param[7], gen_param[8], gen_param[9], gen_param[10], gen_param[11])    #Create generator network\n",
    "                disc_model = make_variable_discriminator_model(disc_param[0], disc_param[1], disc_param[2], disc_param[3], disc_param[4], disc_param[5], disc_param[6], disc_param[7], disc_param[8]) #Create Discriminator\n",
    "\n",
    "                '''checkpoint = tf.train.Checkpoint(generator_optimizer=generator_optimizer,\n",
    "                                     discriminator_optimizer=discriminator_optimizer,\n",
    "                                     generator=generator,\n",
    "                                     discriminator=discriminator)'''\n",
    "\n",
    "                @tf.function\n",
    "                def train_step(images, generator_model, discriminator_model):\n",
    "                    noise = tf.random.normal([BATCH_SIZE, noise_dim])\n",
    "\n",
    "                    with tf.GradientTape() as gen_tape, tf.GradientTape() as disc_tape:\n",
    "                        generated_images = generator_model(noise, training=True)\n",
    "\n",
    "                        real_output = discriminator_model(images, training=True)\n",
    "                        fake_output = discriminator_model(generated_images, training=True)\n",
    "\n",
    "                        gen_loss = generator_loss(fake_output)\n",
    "                        disc_loss = discriminator_loss(real_output, fake_output)\n",
    "\n",
    "                        scaled_gen_loss = generator_optimizer.get_scaled_loss(gen_loss)\n",
    "                        scaled_disc_loss = discriminator_optimizer.get_scaled_loss(disc_loss)\n",
    "\n",
    "                        if(tpu==None):\n",
    "                            #Tensorboard Logs\n",
    "                            train_disc_real_loss(cross_entropy(tf.ones_like(real_output), real_output))\n",
    "                            train_disc_real_accuracy(tf.ones_like(real_output), real_output)\n",
    "\n",
    "                            train_disc_fake_loss(cross_entropy(tf.zeros_like(fake_output), fake_output))\n",
    "                            train_disc_fake_accuracy(tf.zeros_like(fake_output), fake_output)\n",
    "\n",
    "                            train_gen_loss(gen_loss)\n",
    "                            train_gen_accuracy(tf.ones_like(fake_output), fake_output)\n",
    "\n",
    "                    scaled_gradients_of_generator = gen_tape.gradient(scaled_gen_loss, generator_model.trainable_variables)\n",
    "                    scaled_gradients_of_discriminator = disc_tape.gradient(scaled_disc_loss, discriminator_model.trainable_variables)\n",
    "\n",
    "                    gradients_of_generator = generator_optimizer.get_unscaled_gradients(scaled_gradients_of_generator)\n",
    "                    gradients_of_discriminator = discriminator_optimizer.get_unscaled_gradients(scaled_gradients_of_discriminator)\n",
    "\n",
    "                    generator_optimizer.apply_gradients(zip(gradients_of_generator, generator_model.trainable_variables))\n",
    "                    discriminator_optimizer.apply_gradients(zip(gradients_of_discriminator, discriminator_model.trainable_variables))\n",
    "                #####END FUNCTION#####\n",
    "\n",
    "                #####TRAIN FUNCTION#####\n",
    "                def train(dataset, epochs, zip_after, generator_model, discriminator_model):\n",
    "                    if(tpu==None):\n",
    "                        current_time = datetime.datetime.now().strftime(\"%Y%m%d-%H%M%S\")\n",
    "                        train_log_dir = 'logs/gradient_tape/' + current_time + '/train'\n",
    "                        test_log_dir = 'logs/gradient_tape/' + current_time + '/test'\n",
    "                        train_summary_writer = tf.summary.create_file_writer(train_log_dir)\n",
    "                        test_summary_writer = tf.summary.create_file_writer(test_log_dir)\n",
    "\n",
    "                    for epoch in range(epochs):\n",
    "                        start = time.time()\n",
    "\n",
    "                        for image_batch in dataset:\n",
    "                            train_step(image_batch, generator_model, discriminator_model)\n",
    "\n",
    "                        if(tpu==None):\n",
    "                            with train_summary_writer.as_default():\n",
    "                                tf.summary.scalar('train_disc_real_loss:', train_disc_real_loss.result(), step=epoch+Epoch_offset)\n",
    "                                tf.summary.scalar('train_disc_real_accuracy:', train_disc_real_accuracy.result(), step=epoch+Epoch_offset)\n",
    "\n",
    "                                tf.summary.scalar('train_disc_fake_loss:', train_disc_fake_loss.result(), step=epoch+Epoch_offset)\n",
    "                                tf.summary.scalar('train_disc_fake_accuracy:', train_disc_fake_accuracy.result(), step=epoch+Epoch_offset)\n",
    "\n",
    "                                tf.summary.scalar('train_gen_loss:', train_gen_loss.result(), step=epoch+Epoch_offset)\n",
    "                                tf.summary.scalar('train_gen_accuracy:', train_gen_accuracy.result(), step=epoch+Epoch_offset)\n",
    "\n",
    "                        # Produce images for the GIF as you go\n",
    "                        display.clear_output(wait=True)\n",
    "                        generate_and_save_images(generator_model,\n",
    "                                                 epoch + 1,\n",
    "                                                 seed)\n",
    "\n",
    "                        # Save the model every 15 epochs\n",
    "                        '''if (epoch + 1) % 15 == 0:\n",
    "                          checkpoint.save(file_prefix = checkpoint_prefix)'''\n",
    "\n",
    "                        if ((epoch + 1) % zip_after and tpu == None) == 0:\n",
    "                            shutil.make_archive(\"logs\", \"zip\", \"logs\")\n",
    "\n",
    "                        print ('Train number: {} - Time for epoch {} is {} sec'.format(train_num, epoch + 1, time.time()-start))\n",
    "\n",
    "\n",
    "                    #Reset tensorboard writers\n",
    "                    if(tpu==None):\n",
    "                        train_disc_real_loss.reset_states()\n",
    "                        train_disc_real_accuracy.reset_states()\n",
    "\n",
    "                        train_disc_fake_loss.reset_states()\n",
    "                        train_disc_fake_accuracy.reset_states()\n",
    "\n",
    "                        train_gen_loss.reset_states()\n",
    "                        train_gen_accuracy.reset_states()\n",
    "\n",
    "                  # Generate after the final epoch\n",
    "                    display.clear_output(wait=True)\n",
    "                    generate_and_save_images(generator_model,\n",
    "                                               epochs,\n",
    "                                               seed)\n",
    "                ####END FUNCTION####\n",
    "                train(training_data, num_epochs, zip_after, gen_model, disc_model)"
   ]
  },
  {
   "cell_type": "code",
   "execution_count": 16,
   "id": "5a1ec581",
   "metadata": {
    "execution": {
     "iopub.execute_input": "2022-11-09T08:20:32.316903Z",
     "iopub.status.busy": "2022-11-09T08:20:32.316248Z",
     "iopub.status.idle": "2022-11-09T09:50:56.219711Z",
     "shell.execute_reply": "2022-11-09T09:50:56.218753Z"
    },
    "papermill": {
     "duration": 5423.916813,
     "end_time": "2022-11-09T09:50:56.222780",
     "exception": false,
     "start_time": "2022-11-09T08:20:32.305967",
     "status": "completed"
    },
    "tags": []
   },
   "outputs": [
    {
     "data": {
      "image/png": "[encoded data removed]",
      "text/plain": [
       "<Figure size 288x288 with 16 Axes>"
      ]
     },
     "metadata": {
      "needs_background": "light"
     },
     "output_type": "display_data"
    }
   ],
   "source": [
    "variable_train(generator_params, discriminator_params, load_elevation(training_paths), EPOCHS, 5)"
   ]
  },
  {
   "cell_type": "markdown",
   "id": "b2e7a921",
   "metadata": {
    "papermill": {
     "duration": 0.009482,
     "end_time": "2022-11-09T09:50:56.242515",
     "exception": false,
     "start_time": "2022-11-09T09:50:56.233033",
     "status": "completed"
    },
    "tags": []
   },
   "source": [
    "# Logging\n",
    "In order to plot the logs:\n",
    "\n",
    "**Windows**\n",
    "1. Download the zip file\n",
    "2. Extract the zip file\n",
    "3. Open command line\n",
    "4. Run command: tensorboard --logdir=logs --host=localhost    *(Where logs is the directory to the unzipped log file)*\n",
    "5. Open a browser and type in the address bar: localhost:6006"
   ]
  }
 ],
 "metadata": {
  "kernelspec": {
   "display_name": "Python 3",
   "language": "python",
   "name": "python3"
  },
  "language_info": {
   "codemirror_mode": {
    "name": "ipython",
    "version": 3
   },
   "file_extension": ".py",
   "mimetype": "text/x-python",
   "name": "python",
   "nbconvert_exporter": "python",
   "pygments_lexer": "ipython3",
   "version": "3.7.12"
  },
  "papermill": {
   "default_parameters": {},
   "duration": 5501.76333,
   "end_time": "2022-11-09T09:50:59.733460",
   "environment_variables": {},
   "exception": null,
   "input_path": "__notebook__.ipynb",
   "output_path": "__notebook__.ipynb",
   "parameters": {},
   "start_time": "2022-11-09T08:19:17.970130",
   "version": "2.3.4"
  }
 },
 "nbformat": 4,
 "nbformat_minor": 5
}
